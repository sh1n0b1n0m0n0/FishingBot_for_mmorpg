{
 "cells": [
  {
   "cell_type": "code",
   "execution_count": 83,
   "metadata": {},
   "outputs": [],
   "source": [
    "from PIL import ImageGrab\n",
    "import cv2\n",
    "import numpy as np\n",
    "import time\n",
    "import pyautogui"
   ]
  },
  {
   "cell_type": "code",
   "execution_count": 94,
   "metadata": {},
   "outputs": [],
   "source": [
    "average = [0,]\n",
    "template = cv2.imread('/temp2.jpg', 0)\n",
    "w, h = template.shape[::-1]"
   ]
  },
  {
   "cell_type": "code",
   "execution_count": 95,
   "metadata": {},
   "outputs": [
    {
     "name": "stdout",
     "output_type": "stream",
     "text": [
      "-63.87143826322931\n",
      "-63.87143826322931\n",
      "Курсор навёл на поплавок!\n"
     ]
    }
   ],
   "source": [
    "time.sleep(1)\n",
    "pyautogui.moveTo(1850,480)\n",
    "pyautogui.sleep(0.5)\n",
    "pyautogui.mouseDown()\n",
    "pyautogui.sleep(0.4)\n",
    "pyautogui.mouseUp()\n",
    "time.sleep(3)\n",
    "    \n",
    "base_screen = ImageGrab.grab(bbox=(0,0,1750,450))\n",
    "base_screen.save('/base_screen.png')\n",
    "\n",
    "img_rgb = cv2.imread('/base_screen.png')\n",
    "img_gray = cv2.cvtColor(img_rgb, cv2.COLOR_BGR2GRAY)\n",
    "    \n",
    "threshold = 0.6\n",
    "res = cv2.matchTemplate(img_gray, template, cv2.TM_CCOEFF_NORMED)\n",
    "loc = np.where(res >= threshold)\n",
    "\n",
    "#for pt in zip(*loc[::-1]):\n",
    "#    cv2.rectangle(img_rgb, pt, (pt[0]+w, pt[1]+h), (0,255,255), 2)\n",
    "    \n",
    "#cv2.imshow('detected', img_rgb)\n",
    "#cv2.waitKey(0)\n",
    "#cv2.destroyAllWindows()\n",
    "for i in range(5):\n",
    "    for pt in zip(*loc[::-1]):\n",
    "        x = int(pt[0])\n",
    "        y = int(pt[1])\n",
    "        \n",
    "    clean_screen = ImageGrab.grab(bbox=(x, y, x+w, y+h))\n",
    "\n",
    "    clean_screen.show()\n",
    "    mean = np.mean(clean_screen)\n",
    "    diff = average[-1] - mean\n",
    "    print(diff)\n",
    "\n",
    "    if diff <= 1:\n",
    "        print(diff)\n",
    "        pyautogui.moveTo(x+60, y+60)\n",
    "        print('Курсор навёл на поплавок!')\n",
    "        pyautogui.mouseDown()\n",
    "        time.sleep(0.3)\n",
    "        pyautogui.mouseUp()\n",
    "        break\n",
    "\n",
    "average.append(mean)        "
   ]
  },
  {
   "cell_type": "code",
   "execution_count": 59,
   "metadata": {},
   "outputs": [
    {
     "name": "stdout",
     "output_type": "stream",
     "text": [
      "поплавок не найден\n",
      "поплавок не найден\n",
      "поплавок не найден\n",
      "поплавок не найден\n",
      "поплавок не найден\n",
      "поплавок не найден\n",
      "поплавок не найден\n",
      "поплавок не найден\n",
      "поплавок не найден\n",
      "поплавок не найден\n",
      "поплавок не найден\n",
      "поплавок не найден\n",
      "поплавок не найден\n",
      "поплавок не найден\n",
      "поплавок не найден\n",
      "поплавок не найден\n",
      "поплавок не найден\n",
      "поплавок не найден\n",
      "поплавок не найден\n",
      "поплавок не найден\n",
      "поплавок не найден\n",
      "поплавок не найден\n",
      "поплавок не найден\n",
      "поплавок не найден\n",
      "поплавок не найден\n"
     ]
    }
   ],
   "source": [
    "for _ in range(5):\n",
    "    time.sleep(1)\n",
    "    pyautogui.moveTo(1850,480)\n",
    "    pyautogui.sleep(0.5)\n",
    "    pyautogui.mouseDown()\n",
    "    pyautogui.sleep(0.4)\n",
    "    pyautogui.mouseUp()\n",
    "    time.sleep(3)\n",
    "    \n",
    "    base_screen = ImageGrab.grab(bbox=(0,0,1750,450))\n",
    "    base_screen.save('/base_screen.png')\n",
    "\n",
    "    img_rgb = cv2.imread('/base_screen.png')\n",
    "    img_gray = cv2.cvtColor(img_rgb, cv2.COLOR_BGR2GRAY)\n",
    "    \n",
    "    threshold = 0.6\n",
    "    res = cv2.matchTemplate(img_gray, template, cv2.TM_CCOEFF_NORMED)\n",
    "    loc = np.where(res >= threshold)\n",
    "\n",
    "    for i in range(5):\n",
    "            try:\n",
    "                clean_screen = ImageGrab.grab(bbox=(x,y,x+w,y+h))\n",
    "                mean = np.mean(clean_screen)\n",
    "                diff = average[-1] - mean\n",
    "                print(diff)\n",
    "                print(mean)\n",
    "                if diff <= 4:\n",
    "                    pyautogui.moveTo(x+60, y+60)\n",
    "                    print('Курсор навёл на поплавок!')\n",
    "                    pyautogui.mouseDown()\n",
    "                    time.sleep(0.4)\n",
    "                    pyautogui.mouseUp()\n",
    "                    break\n",
    "                average.append(mean)        \n",
    "            except:\n",
    "                print('поплавок не найден')\n",
    "                for pt in zip(*loc[::-1]):\n",
    "                    x = int(pt[0])\n",
    "                    y = int(pt[1])\n",
    "                time.sleep(0.2) \n",
    "            pyautogui.moveTo(1850,480)\n",
    "    \n",
    "            try:\n",
    "                del(x)\n",
    "                del(y)\n",
    "            except:\n",
    "                pass\n",
    "            average = [0,]\n",
    "            time.sleep(1)"
   ]
  },
  {
   "cell_type": "code",
   "execution_count": null,
   "metadata": {},
   "outputs": [],
   "source": []
  }
 ],
 "metadata": {
  "kernelspec": {
   "display_name": "Python 3",
   "language": "python",
   "name": "python3"
  },
  "language_info": {
   "codemirror_mode": {
    "name": "ipython",
    "version": 3
   },
   "file_extension": ".py",
   "mimetype": "text/x-python",
   "name": "python",
   "nbconvert_exporter": "python",
   "pygments_lexer": "ipython3",
   "version": "3.8.5"
  }
 },
 "nbformat": 4,
 "nbformat_minor": 4
}
